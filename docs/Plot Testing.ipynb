{
 "cells": [
  {
   "cell_type": "code",
   "execution_count": 31,
   "id": "d16cbbab",
   "metadata": {},
   "outputs": [],
   "source": [
    "import numpy as np\n",
    "import matplotlib as mpl\n",
    "import matplotlib.pyplot as plt\n",
    "from matplotlib import cm\n",
    "from colorspacious import cspace_converter\n",
    "from collections import OrderedDict"
   ]
  },
  {
   "cell_type": "code",
   "execution_count": 32,
   "id": "7b604c94",
   "metadata": {},
   "outputs": [],
   "source": [
    "def gen_plot(x):\n",
    "    plot = plt.plot(x)\n",
    "    return plot"
   ]
  },
  {
   "cell_type": "code",
   "execution_count": 71,
   "id": "d1993886",
   "metadata": {},
   "outputs": [],
   "source": [
    "t = [[0, 1, 2, 2, 3, 2, 2, 1, 1, 3, 0]]\n",
    "r = [[.9, .1, .2, .8, .888, .122, .256, .121, .976, .012, .777]]"
   ]
  },
  {
   "cell_type": "code",
   "execution_count": 72,
   "id": "31030a40",
   "metadata": {},
   "outputs": [
    {
     "data": {
      "text/plain": [
       "[<matplotlib.lines.Line2D at 0x2b965095fd0>,\n",
       " <matplotlib.lines.Line2D at 0x2b9650a4040>,\n",
       " <matplotlib.lines.Line2D at 0x2b9650a4160>,\n",
       " <matplotlib.lines.Line2D at 0x2b9650a4280>,\n",
       " <matplotlib.lines.Line2D at 0x2b9650a43a0>,\n",
       " <matplotlib.lines.Line2D at 0x2b9650a44c0>,\n",
       " <matplotlib.lines.Line2D at 0x2b9650a45e0>,\n",
       " <matplotlib.lines.Line2D at 0x2b9650a4700>,\n",
       " <matplotlib.lines.Line2D at 0x2b9650a4820>,\n",
       " <matplotlib.lines.Line2D at 0x2b9650a4940>,\n",
       " <matplotlib.lines.Line2D at 0x2b965071a60>]"
      ]
     },
     "execution_count": 72,
     "metadata": {},
     "output_type": "execute_result"
    },
    {
     "data": {
      "image/png": "[encoded data removed]",
      "text/plain": [
       "<Figure size 432x288 with 1 Axes>"
      ]
     },
     "metadata": {
      "needs_background": "light"
     },
     "output_type": "display_data"
    }
   ],
   "source": [
    "plt.plot(t)"
   ]
  },
  {
   "cell_type": "code",
   "execution_count": 73,
   "id": "16d4a2e3",
   "metadata": {},
   "outputs": [],
   "source": [
    "cmap = 'Reds'\n",
    "gradient = np.linspace(0, 1, 256)\n",
    "gradient = np.vstack((gradient, gradient))"
   ]
  },
  {
   "cell_type": "code",
   "execution_count": 79,
   "id": "82003980",
   "metadata": {},
   "outputs": [],
   "source": [
    "color_map = plt.get_cmap('Reds')"
   ]
  },
  {
   "cell_type": "code",
   "execution_count": null,
   "id": "ee61a8a0",
   "metadata": {},
   "outputs": [],
   "source": []
  },
  {
   "cell_type": "code",
   "execution_count": 50,
   "id": "21574e0c",
   "metadata": {},
   "outputs": [
    {
     "data": {
      "text/plain": [
       "[(0.5946174548250673, 0.04613610149942329, 0.07558631295655516, 1.0),\n",
       " (0.9969242599000384, 0.8961937716262975, 0.8489042675893886, 1.0),\n",
       " (0.9913725490196079, 0.7913725490196079, 0.7082352941176471, 1.0),\n",
       " (0.7364705882352941, 0.08, 0.10117647058823528, 1.0),\n",
       " (0.6175009611687813, 0.05167243367935409, 0.07853902345251824, 1.0),\n",
       " (0.9961860822760477, 0.8806920415224914, 0.8267589388696654, 1.0),\n",
       " (0.9882352941176471, 0.7270280661284121, 0.6241445597846982, 1.0),\n",
       " (0.9963091118800461, 0.883275663206459, 0.8304498269896193, 1.0),\n",
       " (0.4496885813148789, 0.011072664359861595, 0.05688581314878892, 1.0),\n",
       " (0.9996309111880046, 0.9530334486735871, 0.9301038062283737, 1.0),\n",
       " (0.7645213379469434, 0.08664359861591696, 0.10708189158016147, 1.0)]"
      ]
     },
     "execution_count": 50,
     "metadata": {},
     "output_type": "execute_result"
    }
   ],
   "source": [
    "[mcmap(i) for i in r]"
   ]
  },
  {
   "cell_type": "code",
   "execution_count": null,
   "id": "dc87df0d",
   "metadata": {},
   "outputs": [],
   "source": []
  }
 ],
 "metadata": {
  "kernelspec": {
   "display_name": "Python 3",
   "language": "python",
   "name": "python3"
  },
  "language_info": {
   "codemirror_mode": {
    "name": "ipython",
    "version": 3
   },
   "file_extension": ".py",
   "mimetype": "text/x-python",
   "name": "python",
   "nbconvert_exporter": "python",
   "pygments_lexer": "ipython3",
   "version": "3.9.5"
  }
 },
 "nbformat": 4,
 "nbformat_minor": 5
}
