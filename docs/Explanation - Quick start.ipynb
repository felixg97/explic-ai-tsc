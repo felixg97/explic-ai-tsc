{
 "cells": [
  {
   "cell_type": "code",
   "execution_count": 1,
   "id": "ef78d403",
   "metadata": {},
   "outputs": [],
   "source": [
    "import os\n",
    "import numpy as np\n",
    "import pandas as pd\n",
    "import matplotlib.pyplot as plt\n",
    "import sys\n",
    "import sklearn\n",
    "import tensorflow as tf"
   ]
  },
  {
   "cell_type": "code",
   "execution_count": 2,
   "id": "5b7d5544",
   "metadata": {},
   "outputs": [],
   "source": [
    "root_path = os.getcwd()\n",
    "parent_path = os.path.dirname(root_path)\n",
    "\n",
    "nb_dir = os.path.split(os.getcwd())[0]\n",
    "if nb_dir not in sys.path:\n",
    "    sys.path.append(nb_dir)\n",
    "    \n",
    "## For Notebook\n",
    "# root_directory = 'C:/git/explic-ai-tsc'    \n",
    "\n",
    "## For PC\n",
    "root_directory = 'D:/git/explic-ai-tsc'"
   ]
  },
  {
   "cell_type": "code",
   "execution_count": 3,
   "id": "5fc1b46a",
   "metadata": {},
   "outputs": [],
   "source": [
    "from utils.utils import read_all_datasets\n",
    "from utils.utils import shape_data\n",
    "from utils.constants import DATASETS_NAMES"
   ]
  },
  {
   "cell_type": "markdown",
   "id": "7f22b58a",
   "metadata": {},
   "source": [
    "## Load Data sets"
   ]
  },
  {
   "cell_type": "code",
   "execution_count": 4,
   "id": "6f99f58e",
   "metadata": {},
   "outputs": [],
   "source": [
    "dataset_dict = read_all_datasets(root_directory, 'UCRArchive_2018')\n",
    "\n",
    "curr_dataset = 'ECG5000'\n",
    "\n",
    "x_train, y_train, x_test, y_test, y_true, nb_classes, input_shape = shape_data(dataset_dict[curr_dataset])"
   ]
  },
  {
   "cell_type": "code",
   "execution_count": null,
   "id": "c655813d",
   "metadata": {},
   "outputs": [],
   "source": []
  },
  {
   "cell_type": "markdown",
   "id": "54166413",
   "metadata": {},
   "source": [
    "## Load Pretrained Model (MLP)"
   ]
  },
  {
   "cell_type": "code",
   "execution_count": 5,
   "id": "168e6b1c",
   "metadata": {},
   "outputs": [],
   "source": [
    "from classifiers import MLP"
   ]
  },
  {
   "cell_type": "code",
   "execution_count": 6,
   "id": "964d7ad2",
   "metadata": {},
   "outputs": [],
   "source": [
    "\n",
    "output_directory_model = root_directory + '/results/MLP/UCRArchive_2018_itr_0/ECG5000/'\n",
    "model = MLP(output_directory_model, input_shape, nb_classes, verbose=True, build=False)"
   ]
  },
  {
   "cell_type": "code",
   "execution_count": null,
   "id": "7359c7ca",
   "metadata": {},
   "outputs": [],
   "source": []
  },
  {
   "cell_type": "markdown",
   "id": "44aba1ed",
   "metadata": {},
   "source": [
    "## Load Explanation Method"
   ]
  },
  {
   "cell_type": "code",
   "execution_count": 7,
   "id": "d9466b84",
   "metadata": {},
   "outputs": [],
   "source": [
    "from utils.utils import plot_relevance\n",
    "\n",
    "from explanations import LimeTimeSeriesExplainer\n",
    "from explanations import OcclusionSensitivityUTS\n",
    "from explanations import RiseUTS"
   ]
  },
  {
   "cell_type": "code",
   "execution_count": 8,
   "id": "e29b97c6",
   "metadata": {},
   "outputs": [],
   "source": [
    "data2explain = x_test[:10]\n",
    "ytrue4data2explain = y_true[:10]"
   ]
  },
  {
   "cell_type": "code",
   "execution_count": 9,
   "id": "f5698f6a",
   "metadata": {
    "scrolled": false
   },
   "outputs": [],
   "source": [
    "# explainer_limets = LimeTimeSeriesExplainer()\n",
    "\n",
    "# relevance_lime_dtw = explainer_limets.explain_instance(\n",
    "#     data2explain[0], \n",
    "#     ytrue4data2explain[0], \n",
    "#     model, \n",
    "#     labels=y_true,\n",
    "#     patch_size=5,\n",
    "#     distance_metric='dtw',\n",
    "#     num_samples=1000\n",
    "# )\n",
    "\n",
    "# relevance_lime_euc = explainer_limets.explain_instance(\n",
    "#     data2explain[0], \n",
    "#     ytrue4data2explain[0], \n",
    "#     model, \n",
    "#     labels=y_true,\n",
    "#     patch_size=5,\n",
    "#     distance_metric='euclidean',\n",
    "#     num_samples=1000\n",
    "# )\n",
    "\n",
    "# relevance_lime_cos = explainer_limets.explain_instance(\n",
    "#     data2explain[0], \n",
    "#     ytrue4data2explain[0], \n",
    "#     model, \n",
    "#     labels=y_true,\n",
    "#     patch_size=5,\n",
    "#     distance_metric='cosine',\n",
    "#     num_samples=1000\n",
    "# )"
   ]
  },
  {
   "cell_type": "code",
   "execution_count": 10,
   "id": "4b46c1f1",
   "metadata": {},
   "outputs": [],
   "source": [
    "# plot_relevance(data2explain[0], relevance_lime[0])\n",
    "\n",
    "# plot_relevance(data2explain[0], relevance_lime_dtw)\n",
    "# plot_relevance(data2explain[0], relevance_lime_euc)\n",
    "# plot_relevance(data2explain[0], relevance_lime_cos)"
   ]
  },
  {
   "cell_type": "code",
   "execution_count": 30,
   "id": "9744a74f",
   "metadata": {
    "scrolled": false
   },
   "outputs": [],
   "source": [
    "explainer_limets = RiseUTS()\n",
    "\n",
    "relevance_rise_linear = explainer_limets.explain_instance(\n",
    "    data2explain[0], \n",
    "    ytrue4data2explain[0], \n",
    "    model,\n",
    "    interpolation='linear'\n",
    ")\n",
    "\n",
    "relevance_rise_fourier = explainer_limets.explain_instance(\n",
    "    data2explain[0], \n",
    "    ytrue4data2explain[0], \n",
    "    model,\n",
    "    interpolation='fourier'\n",
    ")"
   ]
  },
  {
   "cell_type": "code",
   "execution_count": 31,
   "id": "0e244d19",
   "metadata": {},
   "outputs": [
    {
     "data": {
      "image/png": "[encoded data removed]",
      "text/plain": [
       "<Figure size 1080x72 with 1 Axes>"
      ]
     },
     "metadata": {
      "needs_background": "light"
     },
     "output_type": "display_data"
    },
    {
     "data": {
      "image/png": "[encoded data removed]",
      "text/plain": [
       "<Figure size 1080x72 with 1 Axes>"
      ]
     },
     "metadata": {
      "needs_background": "light"
     },
     "output_type": "display_data"
    }
   ],
   "source": [
    "plot_relevance(data2explain[0], relevance_rise_linear)\n",
    "plot_relevance(data2explain[0], relevance_rise_fourier)"
   ]
  },
  {
   "cell_type": "code",
   "execution_count": 13,
   "id": "de37b1f5",
   "metadata": {},
   "outputs": [],
   "source": [
    "import scipy"
   ]
  },
  {
   "cell_type": "code",
   "execution_count": 14,
   "id": "2022430a",
   "metadata": {},
   "outputs": [],
   "source": [
    "arr = [1, 0, 4, 2, 1]"
   ]
  },
  {
   "cell_type": "code",
   "execution_count": null,
   "id": "93d1d5d4",
   "metadata": {},
   "outputs": [],
   "source": []
  },
  {
   "cell_type": "code",
   "execution_count": null,
   "id": "9ac9d271",
   "metadata": {},
   "outputs": [],
   "source": []
  },
  {
   "cell_type": "code",
   "execution_count": null,
   "id": "34dd759d",
   "metadata": {},
   "outputs": [],
   "source": []
  },
  {
   "cell_type": "code",
   "execution_count": null,
   "id": "f2b7f583",
   "metadata": {},
   "outputs": [],
   "source": []
  },
  {
   "cell_type": "code",
   "execution_count": 15,
   "id": "1fe520d4",
   "metadata": {},
   "outputs": [],
   "source": [
    "a = np.array([1,2,3,4,5,6,7,8,9,10])"
   ]
  },
  {
   "cell_type": "code",
   "execution_count": 16,
   "id": "f129739a",
   "metadata": {},
   "outputs": [
    {
     "data": {
      "text/plain": [
       "array([ 1. ,  2.5,  4. ,  5.5,  7. ,  8.5, 10. ])"
      ]
     },
     "execution_count": 16,
     "metadata": {},
     "output_type": "execute_result"
    }
   ],
   "source": [
    "np.interp(np.arange(0, len(a), 1.5), np.arange(0, len(a)), a)"
   ]
  },
  {
   "cell_type": "code",
   "execution_count": 17,
   "id": "dbd34485",
   "metadata": {},
   "outputs": [
    {
     "data": {
      "text/plain": [
       "array([0. , 1.5, 3. , 4.5, 6. , 7.5, 9. ])"
      ]
     },
     "execution_count": 17,
     "metadata": {},
     "output_type": "execute_result"
    }
   ],
   "source": [
    "np.arange(0, len(a), 1.5)"
   ]
  },
  {
   "cell_type": "code",
   "execution_count": 18,
   "id": "31b1c68b",
   "metadata": {},
   "outputs": [
    {
     "data": {
      "text/plain": [
       "array([0, 1, 2, 3, 4, 5, 6, 7, 8, 9])"
      ]
     },
     "execution_count": 18,
     "metadata": {},
     "output_type": "execute_result"
    }
   ],
   "source": [
    "np.arange(0, len(a))"
   ]
  },
  {
   "cell_type": "code",
   "execution_count": 19,
   "id": "a3ff5abc",
   "metadata": {},
   "outputs": [
    {
     "data": {
      "text/plain": [
       "array([ 1,  2,  3,  4,  5,  6,  7,  8,  9, 10])"
      ]
     },
     "execution_count": 19,
     "metadata": {},
     "output_type": "execute_result"
    }
   ],
   "source": [
    "a"
   ]
  },
  {
   "cell_type": "code",
   "execution_count": null,
   "id": "5e49ae67",
   "metadata": {},
   "outputs": [],
   "source": []
  },
  {
   "cell_type": "code",
   "execution_count": 20,
   "id": "e1d2ad96",
   "metadata": {},
   "outputs": [
    {
     "data": {
      "text/plain": [
       "array([0.        , 1.83333333, 3.66666667, 5.5       , 7.33333333,\n",
       "       9.16666666])"
      ]
     },
     "execution_count": 20,
     "metadata": {},
     "output_type": "execute_result"
    }
   ],
   "source": [
    "np.arange(0, len(a), 1.833333333)"
   ]
  },
  {
   "cell_type": "code",
   "execution_count": 21,
   "id": "9d8b056c",
   "metadata": {},
   "outputs": [
    {
     "data": {
      "text/plain": [
       "(array([0. , 1.5, 3. , 4.5, 6. , 7.5, 9. ]),\n",
       " array([0, 1, 2, 3, 4, 5, 6, 7, 8, 9]),\n",
       " array([ 1,  2,  3,  4,  5,  6,  7,  8,  9, 10]))"
      ]
     },
     "execution_count": 21,
     "metadata": {},
     "output_type": "execute_result"
    }
   ],
   "source": [
    "np.arange(0, len(a), 1.5), np.arange(0, len(a)), a"
   ]
  },
  {
   "cell_type": "code",
   "execution_count": 22,
   "id": "52646034",
   "metadata": {},
   "outputs": [],
   "source": [
    "from scipy.interpolate import interp1d"
   ]
  },
  {
   "cell_type": "code",
   "execution_count": 23,
   "id": "b526eb3e",
   "metadata": {},
   "outputs": [],
   "source": [
    "def resample_t(x, factor, kind='linear'):\n",
    "    n = int(np.ceil(x.size / factor))\n",
    "    f = interp1d(np.linspace(0, 1, x.size), x, kind)\n",
    "    print(f)\n",
    "    return f(np.linspace(0, 1, n))"
   ]
  },
  {
   "cell_type": "code",
   "execution_count": 24,
   "id": "c9cb8aa9",
   "metadata": {},
   "outputs": [],
   "source": [
    "arr = np.array([2, 1, 0, 1, 2])"
   ]
  },
  {
   "cell_type": "code",
   "execution_count": 25,
   "id": "60e71f58",
   "metadata": {},
   "outputs": [
    {
     "name": "stdout",
     "output_type": "stream",
     "text": [
      "<scipy.interpolate.interpolate.interp1d object at 0x000001D8B7AFFDB0>\n"
     ]
    },
    {
     "data": {
      "text/plain": [
       "array([2. , 1.6, 1.2, 0.8, 0.4, 0. , 0.4, 0.8, 1.2, 1.6, 2. ])"
      ]
     },
     "execution_count": 25,
     "metadata": {},
     "output_type": "execute_result"
    }
   ],
   "source": [
    "5/10\n",
    "\n",
    "resample_t(arr, .48)"
   ]
  },
  {
   "cell_type": "code",
   "execution_count": null,
   "id": "21f62591",
   "metadata": {},
   "outputs": [],
   "source": []
  },
  {
   "cell_type": "code",
   "execution_count": 26,
   "id": "adeb6a22",
   "metadata": {},
   "outputs": [],
   "source": [
    "from scipy.interpolate import interp1d"
   ]
  },
  {
   "cell_type": "code",
   "execution_count": null,
   "id": "cbde51a7",
   "metadata": {},
   "outputs": [],
   "source": []
  },
  {
   "cell_type": "code",
   "execution_count": 27,
   "id": "1a628564",
   "metadata": {},
   "outputs": [
    {
     "data": {
      "text/plain": [
       "<module 'matplotlib.pyplot' from 'C:\\\\ProgramData\\\\Anaconda3\\\\envs\\\\tf-gpu\\\\lib\\\\site-packages\\\\matplotlib\\\\pyplot.py'>"
      ]
     },
     "execution_count": 27,
     "metadata": {},
     "output_type": "execute_result"
    }
   ],
   "source": [
    "plt"
   ]
  },
  {
   "cell_type": "code",
   "execution_count": 28,
   "id": "442a4866",
   "metadata": {},
   "outputs": [
    {
     "data": {
      "text/plain": [
       "[<matplotlib.lines.Line2D at 0x1d8b7b3b550>]"
      ]
     },
     "execution_count": 28,
     "metadata": {},
     "output_type": "execute_result"
    },
    {
     "data": {
      "image/png": "[encoded data removed]",
      "text/plain": [
       "<Figure size 432x288 with 1 Axes>"
      ]
     },
     "metadata": {
      "needs_background": "light"
     },
     "output_type": "display_data"
    }
   ],
   "source": [
    "arr_nnnnn = np.array([2,6,3])\n",
    "\n",
    "plt.plot(arr_nnnnn)"
   ]
  },
  {
   "cell_type": "code",
   "execution_count": 29,
   "id": "35db19a0",
   "metadata": {},
   "outputs": [
    {
     "data": {
      "text/plain": [
       "3"
      ]
     },
     "execution_count": 29,
     "metadata": {},
     "output_type": "execute_result"
    }
   ],
   "source": [
    "len(arr_nnnnn)"
   ]
  },
  {
   "cell_type": "code",
   "execution_count": 34,
   "id": "d721b7d2",
   "metadata": {},
   "outputs": [],
   "source": [
    "loaded = np.loadtxt(root_directory+'/results/MLP/UCRArchive_2018_itr_0/BeetleFly/explanations/occlusion_mean_ps_1.csv', delimiter=',')"
   ]
  },
  {
   "cell_type": "code",
   "execution_count": 35,
   "id": "a7737f39",
   "metadata": {},
   "outputs": [
    {
     "data": {
      "text/plain": [
       "(20, 512)"
      ]
     },
     "execution_count": 35,
     "metadata": {},
     "output_type": "execute_result"
    }
   ],
   "source": [
    "loaded.shape"
   ]
  },
  {
   "cell_type": "code",
   "execution_count": 41,
   "id": "5025ec51",
   "metadata": {},
   "outputs": [],
   "source": [
    "mask_size = 28\n",
    "\n",
    "mask_init = 0.5*np.ones((mask_size), dtype = np.float32)"
   ]
  },
  {
   "cell_type": "code",
   "execution_count": 42,
   "id": "57bdb64f",
   "metadata": {},
   "outputs": [
    {
     "data": {
      "text/plain": [
       "(28,)"
      ]
     },
     "execution_count": 42,
     "metadata": {},
     "output_type": "execute_result"
    }
   ],
   "source": [
    "mask_init.shape"
   ]
  },
  {
   "cell_type": "code",
   "execution_count": 43,
   "id": "98b8bf6b",
   "metadata": {},
   "outputs": [
    {
     "data": {
      "text/plain": [
       "array([0.5, 0.5, 0.5, 0.5, 0.5, 0.5, 0.5, 0.5, 0.5, 0.5, 0.5, 0.5, 0.5,\n",
       "       0.5, 0.5, 0.5, 0.5, 0.5, 0.5, 0.5, 0.5, 0.5, 0.5, 0.5, 0.5, 0.5,\n",
       "       0.5, 0.5], dtype=float32)"
      ]
     },
     "execution_count": 43,
     "metadata": {},
     "output_type": "execute_result"
    }
   ],
   "source": [
    "mask_init"
   ]
  },
  {
   "cell_type": "code",
   "execution_count": 47,
   "id": "8f2e247a",
   "metadata": {},
   "outputs": [
    {
     "data": {
      "text/plain": [
       "10"
      ]
     },
     "execution_count": 47,
     "metadata": {},
     "output_type": "execute_result"
    }
   ],
   "source": [
    "5 + \\\n",
    "5"
   ]
  },
  {
   "cell_type": "code",
   "execution_count": null,
   "id": "cff5051d",
   "metadata": {},
   "outputs": [],
   "source": []
  }
 ],
 "metadata": {
  "kernelspec": {
   "display_name": "Python 3",
   "language": "python",
   "name": "python3"
  },
  "language_info": {
   "codemirror_mode": {
    "name": "ipython",
    "version": 3
   },
   "file_extension": ".py",
   "mimetype": "text/x-python",
   "name": "python",
   "nbconvert_exporter": "python",
   "pygments_lexer": "ipython3",
   "version": "3.9.5"
  }
 },
 "nbformat": 4,
 "nbformat_minor": 5
}
