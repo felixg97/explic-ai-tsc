{
 "cells": [
  {
   "cell_type": "code",
   "execution_count": 4,
   "id": "ef78d403",
   "metadata": {},
   "outputs": [],
   "source": [
    "import os\n",
    "import sys\n",
    "\n",
    "root_path = os.getcwd()\n",
    "parent_path = os.path.dirname(root_path)\n",
    "\n",
    "nb_dir = os.path.split(os.getcwd())[0]\n",
    "if nb_dir not in sys.path:\n",
    "    sys.path.append(nb_dir)"
   ]
  },
  {
   "cell_type": "code",
   "execution_count": 6,
   "id": "5fc1b46a",
   "metadata": {},
   "outputs": [],
   "source": [
    "from utils.utils import read_all_datasets\n",
    "from utils.constants import DATASETS_NAMES"
   ]
  },
  {
   "cell_type": "markdown",
   "id": "54166413",
   "metadata": {},
   "source": [
    "## Load Pretrained Model (MLP)"
   ]
  },
  {
   "cell_type": "code",
   "execution_count": 8,
   "id": "168e6b1c",
   "metadata": {},
   "outputs": [],
   "source": [
    "from classifiers import MLP"
   ]
  },
  {
   "cell_type": "code",
   "execution_count": null,
   "id": "964d7ad2",
   "metadata": {},
   "outputs": [],
   "source": []
  }
 ],
 "metadata": {
  "kernelspec": {
   "display_name": "Python 3",
   "language": "python",
   "name": "python3"
  },
  "language_info": {
   "codemirror_mode": {
    "name": "ipython",
    "version": 3
   },
   "file_extension": ".py",
   "mimetype": "text/x-python",
   "name": "python",
   "nbconvert_exporter": "python",
   "pygments_lexer": "ipython3",
   "version": "3.9.5"
  }
 },
 "nbformat": 4,
 "nbformat_minor": 5
}
