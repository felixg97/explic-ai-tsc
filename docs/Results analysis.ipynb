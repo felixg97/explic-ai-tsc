{
 "cells": [
  {
   "cell_type": "code",
   "execution_count": 1,
   "id": "b3899d6f",
   "metadata": {},
   "outputs": [],
   "source": [
    "# Imports\n",
    "import os\n",
    "import numpy as np\n",
    "import pandas as pd\n",
    "import matplotlib.pyplot as plt\n",
    "import sys\n",
    "\n",
    "root_path = os.getcwd()\n",
    "parent_path = os.path.dirname(root_path)\n",
    "\n",
    "nb_dir = os.path.split(os.getcwd())[0]\n",
    "if nb_dir not in sys.path:\n",
    "    sys.path.append(nb_dir)\n",
    "    \n",
    "## Notebook\n",
    "# root = 'C:/git/explic-ai-tsc'    \n",
    "## PC\n",
    "root = 'D:/git/explic-ai-tsc'\n",
    "\n",
    "MY_DATA_SETS = [\n",
    "    'BeetleFly', \n",
    "    'Earthquakes',\n",
    "#     'ECG5000',\n",
    "#     'ElectricDevices',\n",
    "    'OSULeaf',\n",
    "]"
   ]
  },
  {
   "cell_type": "markdown",
   "id": "a0d3ce04",
   "metadata": {},
   "source": [
    "### Load data"
   ]
  },
  {
   "cell_type": "code",
   "execution_count": 2,
   "id": "6bfa3adf",
   "metadata": {},
   "outputs": [
    {
     "ename": "KeyError",
     "evalue": "'Earthquakes'",
     "output_type": "error",
     "traceback": [
      "\u001b[1;31m---------------------------------------------------------------------------\u001b[0m",
      "\u001b[1;31mKeyError\u001b[0m                                  Traceback (most recent call last)",
      "\u001b[1;32m<ipython-input-2-6d8ce6028bdd>\u001b[0m in \u001b[0;36m<module>\u001b[1;34m\u001b[0m\n\u001b[0;32m      7\u001b[0m \u001b[1;33m\u001b[0m\u001b[0m\n\u001b[0;32m      8\u001b[0m \u001b[1;32mfor\u001b[0m \u001b[0mdataset\u001b[0m \u001b[1;32min\u001b[0m \u001b[0mMY_DATA_SETS\u001b[0m\u001b[1;33m:\u001b[0m\u001b[1;33m\u001b[0m\u001b[1;33m\u001b[0m\u001b[0m\n\u001b[1;32m----> 9\u001b[1;33m     \u001b[0mx_train\u001b[0m\u001b[1;33m,\u001b[0m \u001b[0my_train\u001b[0m\u001b[1;33m,\u001b[0m \u001b[0mx_test\u001b[0m\u001b[1;33m,\u001b[0m \u001b[0my_test\u001b[0m\u001b[1;33m,\u001b[0m \u001b[0my_true\u001b[0m\u001b[1;33m,\u001b[0m \u001b[0mnb_classes\u001b[0m\u001b[1;33m,\u001b[0m \u001b[0minput_shape\u001b[0m \u001b[1;33m=\u001b[0m \u001b[0mshape_data\u001b[0m\u001b[1;33m(\u001b[0m\u001b[0mdataset_dict\u001b[0m\u001b[1;33m[\u001b[0m\u001b[0mdataset\u001b[0m\u001b[1;33m]\u001b[0m\u001b[1;33m)\u001b[0m\u001b[1;33m\u001b[0m\u001b[1;33m\u001b[0m\u001b[0m\n\u001b[0m\u001b[0;32m     10\u001b[0m     shaped_data[dataset] = { \n\u001b[0;32m     11\u001b[0m         \u001b[1;34m'x_train'\u001b[0m\u001b[1;33m:\u001b[0m\u001b[0mx_train\u001b[0m\u001b[1;33m,\u001b[0m\u001b[1;33m\u001b[0m\u001b[1;33m\u001b[0m\u001b[0m\n",
      "\u001b[1;31mKeyError\u001b[0m: 'Earthquakes'"
     ]
    }
   ],
   "source": [
    "from utils.utils import read_all_datasets\n",
    "from utils.utils import shape_data\n",
    "\n",
    "dataset_dict = read_all_datasets(root, 'UCRArchive_2018')\n",
    "\n",
    "shaped_data = { }\n",
    "\n",
    "for dataset in MY_DATA_SETS:\n",
    "    x_train, y_train, x_test, y_test, y_true, nb_classes, input_shape = shape_data(dataset_dict[dataset])\n",
    "    shaped_data[dataset] = { \n",
    "        'x_train':x_train, \n",
    "        'y_train':y_train, \n",
    "        'x_test':x_test, \n",
    "        'y_test':y_test, \n",
    "        'y_true':y_true, \n",
    "        'nb_classes':nb_classes, \n",
    "        'input_shape':input_shape\n",
    "}"
   ]
  },
  {
   "cell_type": "markdown",
   "id": "f8cc43e7",
   "metadata": {},
   "source": [
    "### Load result data"
   ]
  },
  {
   "cell_type": "code",
   "execution_count": null,
   "id": "b079b386",
   "metadata": {},
   "outputs": [],
   "source": [
    "df_occlusion = pd.read_csv(root + '/results/occlusion_results.csv')\n",
    "# df_lime = pd.read_csv(root + '/results/lime_results.csv')\n",
    "# df_rise = pd.read_csv(root + '/results/rise_results.csv')"
   ]
  },
  {
   "cell_type": "code",
   "execution_count": null,
   "id": "a1347666",
   "metadata": {},
   "outputs": [],
   "source": [
    "df_occlusion.head()"
   ]
  },
  {
   "cell_type": "code",
   "execution_count": null,
   "id": "a68704b3",
   "metadata": {},
   "outputs": [],
   "source": []
  },
  {
   "cell_type": "markdown",
   "id": "e6fe028f",
   "metadata": {},
   "source": [
    "### Comparison of perturbation operations"
   ]
  },
  {
   "cell_type": "raw",
   "id": "6faa54ec",
   "metadata": {},
   "source": [
    "**Desired table should look like this**\n",
    "\n",
    "| MLP                   | Zero | Mean | Inverse (?) |\n",
    "|-----------------------|------|------|---------|\n",
    "| Occlusion sensitivity |      |      |         |\n",
    "| Occlusion sensitivity |      |      |         |\n",
    "| LIME                  |      |      |         |\n",
    "| LIME                  |      |      |         |\n",
    "| LIME                  |      |      |         |\n",
    "| LIME                  |      |      |         |\n",
    "| RISE                  |      |      |         |\n",
    "| RISE                  |      |      |         |\n",
    "| RISE                  |      |      |         |\n",
    "| RISE                  |      |      |         |\n",
    "|-----------------------|------|------|---------|\n",
    "| InceptionTime         |      |      |         |\n",
    "|-----------------------|------|------|---------|\n",
    "| Occlusion sensitivity |      |      |         |\n",
    "| Occlusion sensitivity |      |      |         |\n",
    "| LIME                  |      |      |         |\n",
    "| LIME                  |      |      |         |\n",
    "| LIME                  |      |      |         |\n",
    "| LIME                  |      |      |         |\n",
    "| RISE                  |      |      |         |\n",
    "| RISE                  |      |      |         |\n",
    "| RISE                  |      |      |         |\n",
    "| RISE                  |      |      |         |\n",
    "|-----------------------|------|------|---------|\n",
    "| InceptionTime         |      |      |         |\n",
    "|-----------------------|------|------|---------|\n",
    "| Occlusion sensitivity |      |      |         |\n",
    "| Occlusion sensitivity |      |      |         |\n",
    "| LIME                  |      |      |         |\n",
    "| LIME                  |      |      |         |\n",
    "| LIME                  |      |      |         |\n",
    "| LIME                  |      |      |         |\n",
    "| RISE                  |      |      |         |\n",
    "| RISE                  |      |      |         |\n",
    "| RISE                  |      |      |         |\n",
    "| RISE                  |      |      |         |\n"
   ]
  },
  {
   "cell_type": "code",
   "execution_count": null,
   "id": "f204d236",
   "metadata": {},
   "outputs": [],
   "source": [
    "# Was ich heute machen kann: Occlusion ganz ganz, Lime für MLP und ResNet, \n",
    "\n",
    "# Step 1: average all results for every explanation for every explanation\n",
    "\n",
    "# MLP\n",
    "# Occlusion\n",
    "\n",
    "# LIME\n",
    "\n",
    "# RISE"
   ]
  },
  {
   "cell_type": "code",
   "execution_count": null,
   "id": "03e730e6",
   "metadata": {},
   "outputs": [],
   "source": []
  },
  {
   "cell_type": "code",
   "execution_count": null,
   "id": "f6dc5ffe",
   "metadata": {},
   "outputs": [],
   "source": []
  }
 ],
 "metadata": {
  "kernelspec": {
   "display_name": "Python 3",
   "language": "python",
   "name": "python3"
  },
  "language_info": {
   "codemirror_mode": {
    "name": "ipython",
    "version": 3
   },
   "file_extension": ".py",
   "mimetype": "text/x-python",
   "name": "python",
   "nbconvert_exporter": "python",
   "pygments_lexer": "ipython3",
   "version": "3.9.5"
  }
 },
 "nbformat": 4,
 "nbformat_minor": 5
}
