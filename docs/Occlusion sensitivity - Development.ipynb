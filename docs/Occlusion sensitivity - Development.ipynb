{
 "cells": [
  {
   "cell_type": "markdown",
   "id": "ade974b3",
   "metadata": {},
   "source": [
    "## Occlusion Development"
   ]
  },
  {
   "cell_type": "code",
   "execution_count": null,
   "id": "364fff3b",
   "metadata": {},
   "outputs": [],
   "source": [
    "import os\n",
    "import numpy as np\n",
    "import pandas as pd\n",
    "import matplotlib.pyplot as plt\n",
    "import sys\n",
    "import sklearn\n",
    "import tensorflow as tf\n",
    "nb_dir = os.path.split(os.getcwd())[0]\n",
    "if nb_dir not in sys.path:\n",
    "    sys.path.append(nb_dir)\n",
    "    \n",
    "from utils.utils import read_all_datasets"
   ]
  },
  {
   "cell_type": "markdown",
   "id": "febea7c6",
   "metadata": {},
   "source": [
    "### Method for data shaping"
   ]
  },
  {
   "cell_type": "code",
   "execution_count": null,
   "id": "712ae47e",
   "metadata": {},
   "outputs": [],
   "source": [
    "def shape_data(x_train, y_train, x_test, y_test):\n",
    "    _x_train = x_train.copy()\n",
    "    _y_train = y_train.copy()\n",
    "    _x_test = x_test.copy()\n",
    "    _y_test = y_test.copy()\n",
    "\n",
    "    nb_classes = len(np.unique(np.concatenate((_y_train, _y_test), axis=0)))\n",
    "\n",
    "    # transform the labels from integers to one hot vectors\n",
    "    enc = sklearn.preprocessing.OneHotEncoder(categories='auto')\n",
    "    enc.fit(np.concatenate((_y_train, _y_test), axis=0).reshape(-1, 1))\n",
    "    _y_train = enc.transform(_y_train.reshape(-1, 1)).toarray()\n",
    "    _y_test = enc.transform(_y_test.reshape(-1, 1)).toarray()\n",
    "\n",
    "    # save orignal y because later we will use binary\n",
    "    y_true = np.argmax(_y_test, axis=1)\n",
    "\n",
    "    if len(x_train.shape) == 2:  # if univariate\n",
    "        # add a dimension to make it multivariate with one dimension \n",
    "        x_train = x_train.reshape((x_train.shape[0], x_train.shape[1], 1))\n",
    "        x_test = x_test.reshape((x_test.shape[0], x_test.shape[1], 1))\n",
    "\n",
    "    input_shape = x_train.shape[1:]\n",
    "\n",
    "    return _x_train, _y_train, _x_test, _y_test, y_true, nb_classes, input_shape"
   ]
  },
  {
   "cell_type": "markdown",
   "id": "09f4c7ac",
   "metadata": {},
   "source": [
    "### Load Data Set"
   ]
  },
  {
   "cell_type": "code",
   "execution_count": 11,
   "id": "520a4153",
   "metadata": {},
   "outputs": [],
   "source": [
    "## For Notebook\n",
    "root_directory = 'C:/git/explic-ai-tsc'\n",
    "\n",
    "## For PC\n",
    "# root_directory = 'D:/git/explic-ai-tsc'\n",
    "\n",
    "dataset_dict = read_all_datasets(root_directory, 'UCRArchive_2018')\n",
    "\n",
    "curr_dataset = 'ECG5000'\n",
    "\n",
    "x_train, y_train, x_test, y_test = dataset_dict[curr_dataset]\n",
    "\n",
    "x_train, y_train, x_test, y_test, y_true, nb_classes, input_shape = shape_data(x_train, y_train, x_test, y_test)"
   ]
  },
  {
   "cell_type": "markdown",
   "id": "5398a7b2",
   "metadata": {},
   "source": [
    "### Load Pretrained Model"
   ]
  },
  {
   "cell_type": "code",
   "execution_count": 12,
   "id": "adae8a90",
   "metadata": {},
   "outputs": [],
   "source": [
    "from classifiers import MLP\n",
    "\n",
    "#### MLP\n",
    "output_directory_model = 'C:/git/explic-ai-tsc/results/MLP/UCRArchive_2018_itr_0/ECG500/'\n",
    "model = MLP(output_directory_model, input_shape, nb_classes, verbose=True, build=False)"
   ]
  },
  {
   "cell_type": "markdown",
   "id": "33593d27",
   "metadata": {},
   "source": [
    "\n",
    "### Dev Occlusion"
   ]
  },
  {
   "cell_type": "code",
   "execution_count": 13,
   "id": "bc2718e1",
   "metadata": {},
   "outputs": [],
   "source": [
    "from explanations import OcclusionSensitivityUTS\n",
    "\n",
    "### Occlusion\n",
    "explainer = OcclusionSensitivityUTS()"
   ]
  },
  {
   "cell_type": "code",
   "execution_count": 14,
   "id": "2869cfba",
   "metadata": {},
   "outputs": [
    {
     "name": "stdout",
     "output_type": "stream",
     "text": [
      "5\n"
     ]
    }
   ],
   "source": [
    "print(nb_classes)"
   ]
  },
  {
   "cell_type": "code",
   "execution_count": 10,
   "id": "06ac1bc0",
   "metadata": {},
   "outputs": [
    {
     "data": {
      "text/plain": [
       "array([2, 4, 3, 3, 2, 3, 3, 3, 4])"
      ]
     },
     "execution_count": 10,
     "metadata": {},
     "output_type": "execute_result"
    }
   ],
   "source": [
    "patch_size = 4\n",
    "num_samples = 10\n",
    "\n",
    "np.random.randint(1, patch_size + 1, num_samples - 1)"
   ]
  },
  {
   "cell_type": "code",
   "execution_count": 30,
   "id": "1858e417",
   "metadata": {},
   "outputs": [
    {
     "data": {
      "text/plain": [
       "array([0.59326998, 0.12159727, 0.90696741, 0.55507409, 0.97757941,\n",
       "       0.56842006, 0.82942125, 0.16534834, 0.43974652, 0.91736942,\n",
       "       0.20090956, 0.27701349, 0.95575666, 0.74429007, 0.04957974,\n",
       "       0.93257274, 0.96881302, 0.08247174, 0.20418264, 0.61797454])"
      ]
     },
     "execution_count": 30,
     "metadata": {},
     "output_type": "execute_result"
    }
   ],
   "source": [
    "np.random.rand(20)"
   ]
  },
  {
   "cell_type": "code",
   "execution_count": 23,
   "id": "5a8b18f8",
   "metadata": {},
   "outputs": [
    {
     "data": {
      "text/plain": [
       "[0]"
      ]
     },
     "execution_count": 23,
     "metadata": {},
     "output_type": "execute_result"
    }
   ],
   "source": [
    "[i for i in range(0, 20, 500)]"
   ]
  },
  {
   "cell_type": "code",
   "execution_count": 27,
   "id": "f3e86b28",
   "metadata": {},
   "outputs": [
    {
     "data": {
      "text/plain": [
       "[0, 1, 2, 3, 4]"
      ]
     },
     "execution_count": 27,
     "metadata": {},
     "output_type": "execute_result"
    }
   ],
   "source": [
    "masks = [0, 1, 2, 3, 4]\n",
    "[i for i in range(len(masks))]"
   ]
  },
  {
   "cell_type": "code",
   "execution_count": 28,
   "id": "3ff56cb3",
   "metadata": {},
   "outputs": [
    {
     "ename": "TypeError",
     "evalue": "can't multiply sequence by non-int of type 'list'",
     "output_type": "error",
     "traceback": [
      "\u001b[1;31m---------------------------------------------------------------------------\u001b[0m",
      "\u001b[1;31mTypeError\u001b[0m                                 Traceback (most recent call last)",
      "\u001b[1;32m<ipython-input-28-f3491c6d5683>\u001b[0m in \u001b[0;36m<module>\u001b[1;34m\u001b[0m\n\u001b[0;32m      2\u001b[0m \u001b[0mm1\u001b[0m \u001b[1;33m=\u001b[0m \u001b[1;33m[\u001b[0m\u001b[1;36m1\u001b[0m\u001b[1;33m,\u001b[0m \u001b[1;36m2\u001b[0m\u001b[1;33m,\u001b[0m \u001b[1;36m3\u001b[0m\u001b[1;33m,\u001b[0m \u001b[1;36m4\u001b[0m\u001b[1;33m]\u001b[0m\u001b[1;33m\u001b[0m\u001b[1;33m\u001b[0m\u001b[0m\n\u001b[0;32m      3\u001b[0m \u001b[1;33m\u001b[0m\u001b[0m\n\u001b[1;32m----> 4\u001b[1;33m \u001b[0mts\u001b[0m \u001b[1;33m*\u001b[0m \u001b[0mm1\u001b[0m\u001b[1;33m\u001b[0m\u001b[1;33m\u001b[0m\u001b[0m\n\u001b[0m",
      "\u001b[1;31mTypeError\u001b[0m: can't multiply sequence by non-int of type 'list'"
     ]
    }
   ],
   "source": [
    "ts = [0, 1, 2, 3]\n",
    "m1 = [1, 2, 3, 4]\n",
    "\n",
    "ts * m1"
   ]
  },
  {
   "cell_type": "code",
   "execution_count": 11,
   "id": "d502e205",
   "metadata": {},
   "outputs": [],
   "source": [
    "arr = [1, 1, 1, 1, 1, 1, 0, 0]"
   ]
  },
  {
   "cell_type": "code",
   "execution_count": 13,
   "id": "a024b066",
   "metadata": {},
   "outputs": [
    {
     "data": {
      "text/plain": [
       "array([ 1.        ,  1.0256067 ,  1.0475792 ,  1.06595145,  1.08079578,\n",
       "        1.0922209 ,  1.10036955,  1.1054157 ,  1.10756143,  1.10703359,\n",
       "        1.10408009,  1.09896611,  1.09197012,  1.08337985,  1.07348815,\n",
       "        1.06258899,  1.05097346,  1.03892592,  1.02672036,  1.01461695,\n",
       "        1.0028589 ,  0.99166958,  0.98125007,  0.97177696,  0.96340073,\n",
       "        0.95624434,  0.95040241,  0.94594077,  0.94289643,  0.94127803,\n",
       "        0.94106665,  0.94221709,  0.94465943,  0.94830099,  0.95302865,\n",
       "        0.95871134,  0.96520282,  0.97234468,  0.9799694 ,  0.98790357,\n",
       "        0.99597114,  1.00399663,  1.01180832,  1.01924134,  1.02614056,\n",
       "        1.03236335,  1.03778204,  1.04228617,  1.04578437,  1.04820593,\n",
       "        1.04950207,  1.04964669,  1.04863689,  1.04649298,  1.04325815,\n",
       "        1.03899772,  1.03379803,  1.02776493,  1.02102199,  1.01370832,\n",
       "        1.00597617,  0.99798825,  0.98991485,  0.98193079,  0.97421229,\n",
       "        0.96693373,  0.96026439,  0.95436526,  0.94938592,  0.94546148,\n",
       "        0.94270981,  0.94122892,  0.9410946 ,  0.94235842,  0.94504599,\n",
       "        0.94915566,  0.95465756,  0.96149309,  0.96957479,  0.97878673,\n",
       "        0.9889852 ,  1.        ,  1.01163598,  1.02367512,  1.03587892,\n",
       "        1.04799117,  1.05974102,  1.07084636,  1.08101744,  1.08996064,\n",
       "        1.09738244,  1.10299345,  1.10651253,  1.10767077,  1.10621558,\n",
       "        1.10191451,  1.09455895,  1.08396759,  1.06998963,  1.05250761,\n",
       "        1.03143988,  1.00674275,  0.97841208,  0.94648449,  0.91103803,\n",
       "        0.87219241,  0.83010865,  0.78498827,  0.73707193,  0.68663764,\n",
       "        0.63399837,  0.57949935,  0.52351483,  0.46644451,  0.40870959,\n",
       "        0.35074853,  0.29301255,  0.23596094,  0.18005619,  0.12575907,\n",
       "        0.07352371,  0.02379257, -0.02300829, -0.06647395, -0.10622512,\n",
       "       -0.1419123 , -0.17321973, -0.19986887, -0.22162159, -0.23828276,\n",
       "       -0.24970254, -0.25577801, -0.25645433, -0.25172541, -0.24163392,\n",
       "       -0.22627085, -0.20577447, -0.18032875, -0.15016131, -0.11554086,\n",
       "       -0.07677417, -0.03420267,  0.01180143,  0.06083919,  0.11248942,\n",
       "        0.1663133 ,  0.22185917,  0.27866744,  0.3362756 ,  0.39422309,\n",
       "        0.45205622,  0.50933293,  0.56562728,  0.62053382,  0.67367158,\n",
       "        0.72468777,  0.77326107,  0.81910449,  0.86196786,  0.90163971,\n",
       "        0.9379488 ,  0.97076506])"
      ]
     },
     "execution_count": 13,
     "metadata": {},
     "output_type": "execute_result"
    }
   ],
   "source": [
    "from scipy import signal\n",
    "\n",
    "t = signal.resample(arr, 162, axis=0)\n",
    "t"
   ]
  },
  {
   "cell_type": "code",
   "execution_count": null,
   "id": "d9fa388f",
   "metadata": {},
   "outputs": [],
   "source": []
  }
 ],
 "metadata": {
  "kernelspec": {
   "display_name": "Python 3",
   "language": "python",
   "name": "python3"
  },
  "language_info": {
   "codemirror_mode": {
    "name": "ipython",
    "version": 3
   },
   "file_extension": ".py",
   "mimetype": "text/x-python",
   "name": "python",
   "nbconvert_exporter": "python",
   "pygments_lexer": "ipython3",
   "version": "3.8.10"
  }
 },
 "nbformat": 4,
 "nbformat_minor": 5
}
