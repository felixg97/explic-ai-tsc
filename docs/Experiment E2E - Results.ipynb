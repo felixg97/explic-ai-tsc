{
 "cells": [
  {
   "cell_type": "code",
   "execution_count": 1,
   "id": "6a55254a",
   "metadata": {},
   "outputs": [],
   "source": [
    "# Imports\n",
    "import os\n",
    "import numpy as np\n",
    "import pandas as pd\n",
    "import matplotlib.pyplot as plt\n",
    "import sys\n",
    "import sklearn\n",
    "import tensorflow as tf\n",
    "\n",
    "\n",
    "root_path = os.getcwd()\n",
    "parent_path = os.path.dirname(root_path)\n",
    "\n",
    "nb_dir = os.path.split(os.getcwd())[0]\n",
    "if nb_dir not in sys.path:\n",
    "    sys.path.append(nb_dir)\n",
    "    \n",
    "## Notebook\n",
    "# root_directory = 'C:/git/explic-ai-tsc'    \n",
    "## PC\n",
    "root_directory = 'D:/git/explic-ai-tsc'\n",
    "\n",
    "# Custom imports\n",
    "from utils.utils import read_all_datasets\n",
    "from utils.utils import shape_data\n",
    "from utils.constants import DATASETS_NAMES"
   ]
  },
  {
   "cell_type": "markdown",
   "id": "90ebdb59",
   "metadata": {},
   "source": [
    "## Load data sets"
   ]
  },
  {
   "cell_type": "code",
   "execution_count": 2,
   "id": "c6a02598",
   "metadata": {},
   "outputs": [],
   "source": [
    "dataset_dict = read_all_datasets(root_directory, 'UCRArchive_2018')\n",
    "\n",
    "datasets = ['BeetleFly', 'Earthquakes', 'ECG5000', 'ElectricDevices', 'OSULeaf']\n",
    "\n",
    "shaped_data = { }\n",
    "\n",
    "for dataset in datasets:\n",
    "    x_train, y_train, x_test, y_test, y_true, nb_classes, input_shape = shape_data(dataset_dict[dataset])\n",
    "    shaped_data[dataset] = { \n",
    "        'x_train':x_train, \n",
    "        'y_train':y_train, \n",
    "        'x_test':x_test, \n",
    "        'y_test':y_test, \n",
    "        'y_true':y_true, \n",
    "        'nb_classes':nb_classes, \n",
    "        'input_shape':input_shape\n",
    "    }"
   ]
  },
  {
   "cell_type": "markdown",
   "id": "e5b74c6a",
   "metadata": {},
   "source": [
    "### Load pretrained data classifiers (pretrained for 2 iterations)"
   ]
  },
  {
   "cell_type": "code",
   "execution_count": 3,
   "id": "57cc1323",
   "metadata": {},
   "outputs": [],
   "source": [
    "from classifiers import MLP\n",
    "from classifiers import ResNet\n",
    "from classifiers import InceptionTime"
   ]
  },
  {
   "cell_type": "code",
   "execution_count": 4,
   "id": "88443b21",
   "metadata": {
    "scrolled": true
   },
   "outputs": [
    {
     "data": {
      "text/plain": [
       "{'MLP_0_BeetleFly': <classifiers.mlp.MLP at 0x1d538f5a460>,\n",
       " 'ResNet_0_BeetleFly': <classifiers.resnet.ResNet at 0x1d538f5ae20>,\n",
       " 'InceptionTime_0_BeetleFly': <classifiers.inceptiontime.InceptionTime at 0x1d538f5ab50>,\n",
       " 'MLP_0_Earthquakes': <classifiers.mlp.MLP at 0x1d538f5a3a0>,\n",
       " 'ResNet_0_Earthquakes': <classifiers.resnet.ResNet at 0x1d538f5a280>,\n",
       " 'InceptionTime_0_Earthquakes': <classifiers.inceptiontime.InceptionTime at 0x1d538f5a1f0>,\n",
       " 'MLP_0_ECG5000': <classifiers.mlp.MLP at 0x1d538f5a070>,\n",
       " 'ResNet_0_ECG5000': <classifiers.resnet.ResNet at 0x1d538f5a130>,\n",
       " 'InceptionTime_0_ECG5000': <classifiers.inceptiontime.InceptionTime at 0x1d553b5f6d0>,\n",
       " 'MLP_0_ElectricDevices': <classifiers.mlp.MLP at 0x1d553b5f700>,\n",
       " 'ResNet_0_ElectricDevices': <classifiers.resnet.ResNet at 0x1d553b5f730>,\n",
       " 'InceptionTime_0_ElectricDevices': <classifiers.inceptiontime.InceptionTime at 0x1d553b5f670>,\n",
       " 'MLP_0_OSULeaf': <classifiers.mlp.MLP at 0x1d553b5f610>,\n",
       " 'ResNet_0_OSULeaf': <classifiers.resnet.ResNet at 0x1d553b5f5b0>,\n",
       " 'InceptionTime_0_OSULeaf': <classifiers.inceptiontime.InceptionTime at 0x1d553b5f4f0>,\n",
       " 'MLP_1_BeetleFly': <classifiers.mlp.MLP at 0x1d553b5f520>,\n",
       " 'ResNet_1_BeetleFly': <classifiers.resnet.ResNet at 0x1d553b5f550>,\n",
       " 'InceptionTime_1_BeetleFly': <classifiers.inceptiontime.InceptionTime at 0x1d553b5f490>,\n",
       " 'MLP_1_Earthquakes': <classifiers.mlp.MLP at 0x1d553b5f430>,\n",
       " 'ResNet_1_Earthquakes': <classifiers.resnet.ResNet at 0x1d553b5f3d0>,\n",
       " 'InceptionTime_1_Earthquakes': <classifiers.inceptiontime.InceptionTime at 0x1d553b5f310>,\n",
       " 'MLP_1_ECG5000': <classifiers.mlp.MLP at 0x1d553b5f340>,\n",
       " 'ResNet_1_ECG5000': <classifiers.resnet.ResNet at 0x1d553b5f370>,\n",
       " 'InceptionTime_1_ECG5000': <classifiers.inceptiontime.InceptionTime at 0x1d553b5f2b0>,\n",
       " 'MLP_1_ElectricDevices': <classifiers.mlp.MLP at 0x1d553b5f250>,\n",
       " 'ResNet_1_ElectricDevices': <classifiers.resnet.ResNet at 0x1d553b5f1f0>,\n",
       " 'InceptionTime_1_ElectricDevices': <classifiers.inceptiontime.InceptionTime at 0x1d538f33e80>,\n",
       " 'MLP_1_OSULeaf': <classifiers.mlp.MLP at 0x1d538f33dc0>,\n",
       " 'ResNet_1_OSULeaf': <classifiers.resnet.ResNet at 0x1d538f27460>,\n",
       " 'InceptionTime_1_OSULeaf': <classifiers.inceptiontime.InceptionTime at 0x1d538f27490>}"
      ]
     },
     "execution_count": 4,
     "metadata": {},
     "output_type": "execute_result"
    }
   ],
   "source": [
    "classifiers = ['MLP', 'ResNet', 'InceptionTime']\n",
    "\n",
    "iterations = 2\n",
    "models = { }\n",
    "\n",
    "for iteration in range(iterations):\n",
    "    for dataset in datasets:\n",
    "        input_shape = shaped_data[dataset]['input_shape']\n",
    "        nb_classes = shaped_data[dataset]['nb_classes']\n",
    "        \n",
    "        output_directory_model = root_directory + f'/results/MLP/UCRArchive_2018_itr_{iteration}/{dataset}/'\n",
    "        models[f'MLP_{iteration}_{dataset}'] = MLP(output_directory_model, input_shape, nb_classes, verbose=True, build=False)\n",
    "        models[f'ResNet_{iteration}_{dataset}'] = ResNet(output_directory_model, input_shape, nb_classes, verbose=True, build=False)\n",
    "        models[f'InceptionTime_{iteration}_{dataset}'] = InceptionTime(output_directory_model, input_shape, nb_classes, verbose=True, build=False)\n",
    "        \n",
    "models"
   ]
  },
  {
   "cell_type": "markdown",
   "id": "94bb63e2",
   "metadata": {},
   "source": [
    "## Explanations"
   ]
  },
  {
   "cell_type": "code",
   "execution_count": 6,
   "id": "47b8a631",
   "metadata": {},
   "outputs": [],
   "source": [
    "# Imports\n",
    "from explanations import OcclusionSensitivityUTS\n",
    "from explanations import RiseUTS\n",
    "from explanations import LimeTimeSeriesExplainer"
   ]
  },
  {
   "cell_type": "markdown",
   "id": "4cce0e2b",
   "metadata": {},
   "source": [
    "#### Instantiate and explain data sets"
   ]
  },
  {
   "cell_type": "code",
   "execution_count": null,
   "id": "10e83c9d",
   "metadata": {},
   "outputs": [],
   "source": []
  },
  {
   "cell_type": "code",
   "execution_count": null,
   "id": "e101ff79",
   "metadata": {
    "scrolled": false
   },
   "outputs": [
    {
     "name": "stdout",
     "output_type": "stream",
     "text": [
      "WARNING:tensorflow:5 out of the last 14 calls to <function Model.make_predict_function.<locals>.predict_function at 0x000001D55C861820> triggered tf.function retracing. Tracing is expensive and the excessive number of tracings could be due to (1) creating @tf.function repeatedly in a loop, (2) passing tensors with different shapes, (3) passing Python objects instead of tensors. For (1), please define your @tf.function outside of the loop. For (2), @tf.function has experimental_relax_shapes=True option that relaxes argument shapes that can avoid unnecessary retracing. For (3), please refer to https://www.tensorflow.org/guide/function#controlling_retracing and https://www.tensorflow.org/api_docs/python/tf/function for  more details.\n"
     ]
    },
    {
     "name": "stderr",
     "output_type": "stream",
     "text": [
      "WARNING:tensorflow:5 out of the last 14 calls to <function Model.make_predict_function.<locals>.predict_function at 0x000001D55C861820> triggered tf.function retracing. Tracing is expensive and the excessive number of tracings could be due to (1) creating @tf.function repeatedly in a loop, (2) passing tensors with different shapes, (3) passing Python objects instead of tensors. For (1), please define your @tf.function outside of the loop. For (2), @tf.function has experimental_relax_shapes=True option that relaxes argument shapes that can avoid unnecessary retracing. For (3), please refer to https://www.tensorflow.org/guide/function#controlling_retracing and https://www.tensorflow.org/api_docs/python/tf/function for  more details.\n"
     ]
    },
    {
     "name": "stdout",
     "output_type": "stream",
     "text": [
      "WARNING:tensorflow:5 out of the last 13 calls to <function Model.make_predict_function.<locals>.predict_function at 0x000001D55C8615E0> triggered tf.function retracing. Tracing is expensive and the excessive number of tracings could be due to (1) creating @tf.function repeatedly in a loop, (2) passing tensors with different shapes, (3) passing Python objects instead of tensors. For (1), please define your @tf.function outside of the loop. For (2), @tf.function has experimental_relax_shapes=True option that relaxes argument shapes that can avoid unnecessary retracing. For (3), please refer to https://www.tensorflow.org/guide/function#controlling_retracing and https://www.tensorflow.org/api_docs/python/tf/function for  more details.\n"
     ]
    },
    {
     "name": "stderr",
     "output_type": "stream",
     "text": [
      "WARNING:tensorflow:5 out of the last 13 calls to <function Model.make_predict_function.<locals>.predict_function at 0x000001D55C8615E0> triggered tf.function retracing. Tracing is expensive and the excessive number of tracings could be due to (1) creating @tf.function repeatedly in a loop, (2) passing tensors with different shapes, (3) passing Python objects instead of tensors. For (1), please define your @tf.function outside of the loop. For (2), @tf.function has experimental_relax_shapes=True option that relaxes argument shapes that can avoid unnecessary retracing. For (3), please refer to https://www.tensorflow.org/guide/function#controlling_retracing and https://www.tensorflow.org/api_docs/python/tf/function for  more details.\n"
     ]
    }
   ],
   "source": [
    "occl_explainer = OcclusionSensitivityUTS()\n",
    "lime_explainer = LimeTimeSeriesExplainer()\n",
    "rise_explainer = RiseUTS()\n",
    "\n",
    "## Compare perturbations\n",
    "relevance_occl_zero = { }\n",
    "relevance_occl_mean = { }\n",
    "relevance_lime_zero = { } # TODO:\n",
    "relevance_lime_mean = { } \n",
    "relevance_rise_mask = { }\n",
    "\n",
    "## Compare image specific to time series specifics\n",
    "relevance_lime_l2_distance = { } # TODO:\n",
    "relevance_lime_dtw_distance = { } \n",
    "    \n",
    "relevance_rise_linear_interpolation = { } # TODO:\n",
    "relevance_rise_fourier_interpolation = { }\n",
    "\n",
    "for iteration in range(iterations):        \n",
    "    for model in models:\n",
    "        dataset = model.split('_')[-1]\n",
    "        x_test = shaped_data[dataset]['x_test'][:10]\n",
    "        y_true = shaped_data[dataset]['y_true'][:10]\n",
    "        relevance_occl_zero[model] = occl_explainer.explain(x_test, y_true, models[model])\n",
    "        relevance_occl_mean[model] = occl_explainer.explain(x_test, y_true, models[model], perturbation='mean')\n",
    "        relevance_lime_zero[model] = lime_explainer.explain(x_test, y_true, models[model], labels=y_true)\n",
    "        relevance_lime_mean[model] = lime_explainer.explain(x_test, y_true, models[model], labels=y_true, perturbation='mean')\n",
    "        relevance_rise_mask[model]=rise_explainer.explain(x_test, y_true, models[model])\n",
    "    break # doing it for 1 iteration at first\n",
    "        \n",
    "        "
   ]
  },
  {
   "cell_type": "code",
   "execution_count": null,
   "id": "c4c21558",
   "metadata": {},
   "outputs": [],
   "source": [
    "relevance_rise_mask"
   ]
  },
  {
   "cell_type": "code",
   "execution_count": null,
   "id": "c41ee1fd",
   "metadata": {},
   "outputs": [],
   "source": []
  },
  {
   "cell_type": "markdown",
   "id": "f75fedbd",
   "metadata": {},
   "source": [
    "## Evaluation"
   ]
  },
  {
   "cell_type": "code",
   "execution_count": null,
   "id": "6569249f",
   "metadata": {},
   "outputs": [],
   "source": [
    "from utils.utils import plot_relevance\n",
    "from evaluations import PerturbationAnalysisUTS\n",
    "evaluator = PerturbationAnalysisUTS()"
   ]
  },
  {
   "cell_type": "markdown",
   "id": "93b0c6fa",
   "metadata": {},
   "source": [
    "#### Qualitative Evaluation"
   ]
  },
  {
   "cell_type": "code",
   "execution_count": null,
   "id": "5c9cdc73",
   "metadata": {},
   "outputs": [],
   "source": [
    "# 'BeetleFly', 'Earthquakes', 'ECG5000', 'ElectricDevices', 'OSULeaf'\n",
    "\n",
    "relevance_occl_zero"
   ]
  },
  {
   "cell_type": "code",
   "execution_count": null,
   "id": "ce5dec1d",
   "metadata": {},
   "outputs": [],
   "source": [
    "for mode"
   ]
  },
  {
   "cell_type": "code",
   "execution_count": null,
   "id": "0b1f33d9",
   "metadata": {},
   "outputs": [],
   "source": [
    "relevance_occl_zero"
   ]
  },
  {
   "cell_type": "markdown",
   "id": "f3f0c102",
   "metadata": {},
   "source": [
    "#### Quantitative Evaluation (Perturbation Analysis)"
   ]
  },
  {
   "cell_type": "code",
   "execution_count": null,
   "id": "8c82aa94",
   "metadata": {},
   "outputs": [],
   "source": []
  },
  {
   "cell_type": "code",
   "execution_count": null,
   "id": "20adc75e",
   "metadata": {},
   "outputs": [],
   "source": []
  },
  {
   "cell_type": "code",
   "execution_count": null,
   "id": "8cdb10bc",
   "metadata": {},
   "outputs": [],
   "source": []
  },
  {
   "cell_type": "code",
   "execution_count": null,
   "id": "e220316d",
   "metadata": {},
   "outputs": [],
   "source": []
  }
 ],
 "metadata": {
  "kernelspec": {
   "display_name": "Python 3",
   "language": "python",
   "name": "python3"
  },
  "language_info": {
   "codemirror_mode": {
    "name": "ipython",
    "version": 3
   },
   "file_extension": ".py",
   "mimetype": "text/x-python",
   "name": "python",
   "nbconvert_exporter": "python",
   "pygments_lexer": "ipython3",
   "version": "3.9.5"
  }
 },
 "nbformat": 4,
 "nbformat_minor": 5
}
